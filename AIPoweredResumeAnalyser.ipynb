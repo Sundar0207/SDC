{
  "cells": [
    {
      "cell_type": "markdown",
      "metadata": {
        "colab_type": "text",
        "id": "view-in-github"
      },
      "source": [
        "<a href=\"https://colab.research.google.com/github/srigit-dot/machine-learning/blob/main/AIPoweredResumeAnalyser.ipynb\" target=\"_parent\"><img src=\"https://colab.research.google.com/assets/colab-badge.svg\" alt=\"Open In Colab\"/></a>"
      ]
    },
    {
      "cell_type": "code",
      "execution_count": null,
      "metadata": {
        "colab": {
          "base_uri": "https://localhost:8080/",
          "height": 646
        },
        "id": "taI-SqWAy7ye",
        "outputId": "2b708890-c5f7-456c-87e6-df6266b892bc"
      },
      "outputs": [
        {
          "name": "stdout",
          "output_type": "stream",
          "text": [
            "Running Gradio in a Colab notebook requires sharing enabled. Automatically setting `share=True` (you can turn this off by setting `share=False` in `launch()` explicitly).\n",
            "\n",
            "Colab notebook detected. To show errors in colab notebook, set debug=True in launch()\n",
            "* Running on public URL: https://c886c9c9ade0c0f80e.gradio.live\n",
            "\n",
            "This share link expires in 72 hours. For free permanent hosting and GPU upgrades, run `gradio deploy` from the terminal in the working directory to deploy to Hugging Face Spaces (https://huggingface.co/spaces)\n"
          ]
        },
        {
          "data": {
            "text/html": [
              "<div><iframe src=\"https://c886c9c9ade0c0f80e.gradio.live\" width=\"100%\" height=\"500\" allow=\"autoplay; camera; microphone; clipboard-read; clipboard-write;\" frameborder=\"0\" allowfullscreen></iframe></div>"
            ],
            "text/plain": [
              "<IPython.core.display.HTML object>"
            ]
          },
          "metadata": {},
          "output_type": "display_data"
        },
        {
          "data": {
            "text/plain": []
          },
          "execution_count": 14,
          "metadata": {},
          "output_type": "execute_result"
        }
      ],
      "source": [
        "!pip install gradio\n",
        "\n",
        "import gradio as gr\n",
        "\n",
        "# Sample list of key skills to look for\n",
        "key_skills = [\"Python\", \"Java\", \"C++\", \"SQL\", \"JavaScript\", \"React\", \"Node.js\", \"AWS\", \"Docker\", \"Machine Learning\", \"Data Analysis\", \"HTML\", \"CSS\"]\n",
        "\n",
        "# Resume processing function with mock skill analysis\n",
        "def process_resume(resume_text):\n",
        "    summary = resume_text[:300] + \"...\" if len(resume_text) > 300 else resume_text\n",
        "\n",
        "    # Skill extraction (simple keyword matching)\n",
        "    found_skills = [skill for skill in key_skills if skill.lower() in resume_text.lower()]\n",
        "\n",
        "    if found_skills:\n",
        "        suggestions = f\"✅ Skills Detected: {', '.join(found_skills)}\\n\\n\" \\\n",
        "                      f\"👉 Consider expanding your experience or projects related to: {', '.join(found_skills[:3])}.\"\n",
        "    else:\n",
        "        suggestions = \"⚠️ No key technical skills detected. Please make sure to include skills like Python, Java, SQL, etc.\"\n",
        "\n",
        "    return summary, suggestions\n",
        "\n",
        "# Create the Gradio interface\n",
        "interface = gr.Interface(\n",
        "    fn=process_resume,\n",
        "    inputs=gr.Textbox(label=\"📄 Paste Your Resume Text Here\", placeholder=\"E.g. Experienced in Python, SQL, and AWS...\", lines=15),\n",
        "    outputs=[\n",
        "        gr.Textbox(label=\"📌 Resume Summary\"),\n",
        "        gr.Textbox(label=\"💡 Suggestions Based on Analysis\")\n",
        "    ],\n",
        "    title=\"🔍 Resume Analyzer\",\n",
        "    description=\"Paste your resume text and get a summary along with skill-based suggestions.\",\n",
        "    theme=\"soft\"\n",
        ")\n",
        "\n",
        "# Launch the app\n",
        "interface.launch()\n"
      ]
    }
  ],
  "metadata": {
    "colab": {
      "authorship_tag": "ABX9TyMMjgYIXxbq159IGZIPDy5D",
      "include_colab_link": true,
      "provenance": []
    },
    "kernelspec": {
      "display_name": "Python 3",
      "name": "python3"
    },
    "language_info": {
      "name": "python"
    }
  },
  "nbformat": 4,
  "nbformat_minor": 0
}
